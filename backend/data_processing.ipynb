{
 "cells": [
  {
   "cell_type": "code",
   "execution_count": 86,
   "metadata": {},
   "outputs": [
    {
     "name": "stdout",
     "output_type": "stream",
     "text": [
      "Requirement already satisfied: pandas in /Users/chowdhuryan-noor/Documents/CSE-564-Final-Project/.venv/lib/python3.11/site-packages (2.2.2)\n",
      "Requirement already satisfied: numpy>=1.23.2 in /Users/chowdhuryan-noor/Documents/CSE-564-Final-Project/.venv/lib/python3.11/site-packages (from pandas) (1.26.4)\n",
      "Requirement already satisfied: python-dateutil>=2.8.2 in /Users/chowdhuryan-noor/Documents/CSE-564-Final-Project/.venv/lib/python3.11/site-packages (from pandas) (2.9.0.post0)\n",
      "Requirement already satisfied: pytz>=2020.1 in /Users/chowdhuryan-noor/Documents/CSE-564-Final-Project/.venv/lib/python3.11/site-packages (from pandas) (2024.1)\n",
      "Requirement already satisfied: tzdata>=2022.7 in /Users/chowdhuryan-noor/Documents/CSE-564-Final-Project/.venv/lib/python3.11/site-packages (from pandas) (2024.1)\n",
      "Requirement already satisfied: six>=1.5 in /Users/chowdhuryan-noor/Documents/CSE-564-Final-Project/.venv/lib/python3.11/site-packages (from python-dateutil>=2.8.2->pandas) (1.16.0)\n",
      "Requirement already satisfied: gender-guesser in /Users/chowdhuryan-noor/Documents/CSE-564-Final-Project/.venv/lib/python3.11/site-packages (0.4.0)\n"
     ]
    }
   ],
   "source": [
    "!pip install pandas\n",
    "!pip install gender-guesser"
   ]
  },
  {
   "cell_type": "code",
   "execution_count": 113,
   "metadata": {},
   "outputs": [],
   "source": [
    "import pandas as pd\n",
    "import numpy as np\n",
    "import gender_guesser.detector as gender\n",
    "import random"
   ]
  },
  {
   "cell_type": "markdown",
   "metadata": {},
   "source": [
    "#### Load Datasets"
   ]
  },
  {
   "cell_type": "code",
   "execution_count": 88,
   "metadata": {},
   "outputs": [],
   "source": [
    "baby_names = pd.read_csv(\"../data/Popular_Baby_Names_20240424.csv\")\n",
    "expense_budget = pd.read_csv(\"../data/Expense_Budget_20240424.csv\", low_memory=False)\n",
    "payroll = pd.read_csv(\"../data/Citywide_Payroll_Data__Fiscal_Year__20240424.csv\", low_memory=False)"
   ]
  },
  {
   "cell_type": "markdown",
   "metadata": {},
   "source": [
    "#### Data Cleaning"
   ]
  },
  {
   "cell_type": "markdown",
   "metadata": {},
   "source": [
    "##### Payroll"
   ]
  },
  {
   "cell_type": "code",
   "execution_count": 92,
   "metadata": {},
   "outputs": [
    {
     "data": {
      "text/plain": [
       "Fiscal Year                   False\n",
       "Payroll Number                 True\n",
       "Agency Name                   False\n",
       "Last Name                      True\n",
       "First Name                     True\n",
       "Mid Init                       True\n",
       "Agency Start Date              True\n",
       "Work Location Borough          True\n",
       "Title Description              True\n",
       "Leave Status as of June 30    False\n",
       "Base Salary                   False\n",
       "Pay Basis                     False\n",
       "Regular Hours                 False\n",
       "Regular Gross Paid            False\n",
       "OT Hours                      False\n",
       "Total OT Paid                 False\n",
       "Total Other Pay               False\n",
       "dtype: bool"
      ]
     },
     "execution_count": 92,
     "metadata": {},
     "output_type": "execute_result"
    }
   ],
   "source": [
    "payroll.isnull().any(axis=0)"
   ]
  },
  {
   "cell_type": "markdown",
   "metadata": {},
   "source": [
    "Filter out all the rows that are missing names. We can't do gender analysis on them. There are 13,245 rows with missing names. "
   ]
  },
  {
   "cell_type": "code",
   "execution_count": 94,
   "metadata": {},
   "outputs": [],
   "source": [
    "payroll = payroll[payroll[\"First Name\"].notna()]"
   ]
  },
  {
   "cell_type": "markdown",
   "metadata": {},
   "source": [
    "Filter out all the rows that are missing start dates. There are only 63 rows with missing start dates. "
   ]
  },
  {
   "cell_type": "code",
   "execution_count": 104,
   "metadata": {},
   "outputs": [],
   "source": [
    "payroll = payroll[payroll[\"Agency Start Date\"].notna()]\n"
   ]
  },
  {
   "cell_type": "markdown",
   "metadata": {},
   "source": [
    "There are 506,233 rows with missing Work Location Borough. Since the number of missing names is large, we shouldn't just get rid of them. Some people might work in many different buroughs due to the nature of their jobs. Since this is a categorical value, we can have an extra value \"Unknown\" for any one with missing burough information. "
   ]
  },
  {
   "cell_type": "code",
   "execution_count": 97,
   "metadata": {},
   "outputs": [],
   "source": [
    "payroll[\"Work Location Borough\"] = payroll[\"Work Location Borough\"].fillna(\"UNKNOWN\")"
   ]
  },
  {
   "cell_type": "code",
   "execution_count": 120,
   "metadata": {},
   "outputs": [
    {
     "data": {
      "text/plain": [
       "Payroll Number\n",
       "742.0    776468\n",
       "747.0    666254\n",
       "56.0     348534\n",
       "744.0    272137\n",
       "300.0    243401\n",
       "          ...  \n",
       "478.0        18\n",
       "392.0        15\n",
       "381.0        14\n",
       "383.0        13\n",
       "130.0         3\n",
       "Name: count, Length: 157, dtype: int64"
      ]
     },
     "execution_count": 120,
     "metadata": {},
     "output_type": "execute_result"
    }
   ],
   "source": [
    "payroll['Agency Name'].value_counts()"
   ]
  },
  {
   "cell_type": "markdown",
   "metadata": {},
   "source": [
    "##### Expense Budget"
   ]
  },
  {
   "cell_type": "code",
   "execution_count": 122,
   "metadata": {},
   "outputs": [
    {
     "data": {
      "text/plain": [
       "Unit Appropriation Number\n",
       "2      163246\n",
       "1      105363\n",
       "6       47717\n",
       "4       46612\n",
       "3       34580\n",
       "        ...  \n",
       "211         7\n",
       "634         5\n",
       "834         5\n",
       "210         4\n",
       "491         2\n",
       "Name: count, Length: 219, dtype: int64"
      ]
     },
     "execution_count": 122,
     "metadata": {},
     "output_type": "execute_result"
    }
   ],
   "source": [
    "expense_budget[\"Unit Appropriation Number\"].value_counts()"
   ]
  },
  {
   "cell_type": "markdown",
   "metadata": {},
   "source": [
    "#### Getting Gender Information"
   ]
  },
  {
   "cell_type": "markdown",
   "metadata": {},
   "source": [
    "Checking overlap between baby names and payroll data"
   ]
  },
  {
   "cell_type": "code",
   "execution_count": 89,
   "metadata": {},
   "outputs": [
    {
     "data": {
      "text/plain": [
       "1804"
      ]
     },
     "execution_count": 89,
     "metadata": {},
     "output_type": "execute_result"
    }
   ],
   "source": [
    "unique_baby = baby_names[baby_names[\"Child's First Name\"].notnull()]\n",
    "unique_payroll = payroll[payroll[\"First Name\"].notnull()]\n",
    "\n",
    "unique_baby = baby_names[\"Child's First Name\"].unique()\n",
    "unique_payroll = payroll[\"First Name\"].unique()\n",
    "\n",
    "unique_payroll = unique_payroll.astype(str)\n",
    "unique_baby = unique_baby.astype(str)\n",
    "\n",
    "unique_baby = np.char.upper(unique_baby)\n",
    "unique_payroll = np.char.upper(unique_payroll)\n",
    "\n",
    "len(np.intersect1d(unique_baby, unique_payroll))"
   ]
  },
  {
   "cell_type": "markdown",
   "metadata": {},
   "source": [
    "Use a gender prediction model"
   ]
  },
  {
   "cell_type": "code",
   "execution_count": 114,
   "metadata": {},
   "outputs": [],
   "source": [
    "genModel = gender.Detector()\n",
    "\n",
    "#run through model\n",
    "def get_gender(name):\n",
    "    return genModel.get_gender(name.capitalize())\n",
    "\n",
    "payroll['Gender'] = payroll['First Name'].apply(get_gender)\n",
    "\n",
    "#handle cases where the model is unsure and assign a gender\n",
    "def finalize_gender(gender):\n",
    "    if gender == \"mostly_female\":\n",
    "        return \"female\"\n",
    "    elif gender == \"mostly_male\":\n",
    "        return \"male\"\n",
    "    elif gender == \"male\" or gender == \"female\":\n",
    "        return gender\n",
    "    else:\n",
    "        return random.choice([\"male\", \"female\"])\n",
    "    \n",
    "payroll['Gender'] = payroll['Gender'].apply(finalize_gender)\n",
    "    "
   ]
  },
  {
   "cell_type": "code",
   "execution_count": 115,
   "metadata": {},
   "outputs": [
    {
     "data": {
      "text/plain": [
       "Gender\n",
       "female    3246234\n",
       "male      2403234\n",
       "Name: count, dtype: int64"
      ]
     },
     "execution_count": 115,
     "metadata": {},
     "output_type": "execute_result"
    }
   ],
   "source": [
    "payroll['Gender'].value_counts()"
   ]
  }
 ],
 "metadata": {
  "kernelspec": {
   "display_name": ".venv",
   "language": "python",
   "name": "python3"
  },
  "language_info": {
   "codemirror_mode": {
    "name": "ipython",
    "version": 3
   },
   "file_extension": ".py",
   "mimetype": "text/x-python",
   "name": "python",
   "nbconvert_exporter": "python",
   "pygments_lexer": "ipython3",
   "version": "3.11.6"
  }
 },
 "nbformat": 4,
 "nbformat_minor": 2
}
